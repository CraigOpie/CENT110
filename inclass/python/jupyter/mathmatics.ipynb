{
 "cells": [
  {
   "cell_type": "code",
   "execution_count": 16,
   "metadata": {},
   "outputs": [
    {
     "name": "stdout",
     "output_type": "stream",
     "text": [
      "Enter the most significant bit of the first number: 1\n",
      "Enter the least significant bit of the first number: 0\n",
      "Enter the most significant bit of the second number: 1\n",
      "Enter the least significant bit of the second number: 1\n",
      "Your sum is: 101\n"
     ]
    }
   ],
   "source": [
    "a1=int(input(\"Enter the most significant bit of the first number: \"))\n",
    "a0=int(input(\"Enter the least significant bit of the first number: \"))\n",
    "b1=int(input(\"Enter the most significant bit of the second number: \"))\n",
    "b0=int(input(\"Enter the least significant bit of the second number: \"))\n",
    "\n",
    "carry=(a0 & b0)\n",
    "y0=((~a0 & b0) or (a0 & ~b0))\n",
    "y1=(~((~a1 & b1) or (a1 & ~b1)) & carry) or (((~a1 & b1) or (a1 & ~b1)) & ~carry)\n",
    "y2=((((~a1 & b1) or (a1 & ~b1)) & carry)|(a1 & b1))\n",
    "\n",
    "print(\"Your sum is: \"+str(y2)+str(y1)+str(y0))\n"
   ]
  }
 ],
 "metadata": {
  "kernelspec": {
   "display_name": "Python 3",
   "language": "python",
   "name": "python3"
  },
  "language_info": {
   "codemirror_mode": {
    "name": "ipython",
    "version": 3
   },
   "file_extension": ".py",
   "mimetype": "text/x-python",
   "name": "python",
   "nbconvert_exporter": "python",
   "pygments_lexer": "ipython3",
   "version": "3.6.5"
  }
 },
 "nbformat": 4,
 "nbformat_minor": 2
}
