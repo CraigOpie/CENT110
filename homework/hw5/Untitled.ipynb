{
 "cells": [
  {
   "cell_type": "code",
   "execution_count": 7,
   "metadata": {},
   "outputs": [
    {
     "name": "stdout",
     "output_type": "stream",
     "text": [
      "Enter the name of the item: cake\n",
      "Enter the type of food: dessert\n",
      "Enter the price of the item: 10\n",
      "Enter the name of the item: pizza\n",
      "Enter the type of food: entree\n",
      "Enter the price of the item: 15\n",
      "Enter the name of the item: done\n",
      "<item>\n",
      "\n",
      "  <name>cake</name>\n",
      "\n",
      "  <foodType>dessert</foodType>\n",
      "\n",
      "  <price>10.0</price>\n",
      "\n",
      "</item>\n",
      "\n",
      "<item>\n",
      "\n",
      "  <name>pizza</name>\n",
      "\n",
      "  <foodType>entree</foodType>\n",
      "\n",
      "  <price>15.0</price>\n",
      "\n",
      "</item>\n",
      "\n"
     ]
    }
   ],
   "source": [
    "foodlist = \"\"\n",
    "\n",
    "\n",
    "loop_condition = True\n",
    "while loop_condition == True:\n",
    "    item_name = input(\"Enter the name of the item: \")\n",
    "    if item_name.lower().replace(\" \",\"\") == \"done\":\n",
    "        loop_condition = False\n",
    "    else:\n",
    "        item_type = input(\"Enter the type of food: \")\n",
    "        item_price = float(input(\"Enter the price of the item: \"))\n",
    "\n",
    "        foodlist += (item_name+\"|\"+item_type+\"|\"+str(item_price)+\"\\n\")\n",
    "        \n",
    "        \n",
    "foodlist = foodlist.strip().split(\"\\n\")\n",
    "for eachline in foodlist:\n",
    "    items = eachline.split(\"|\")\n",
    "    print(\"<item>\\n\")\n",
    "    print(\"  <name>\"+str(items[0])+\"</name>\\n\")\n",
    "    print(\"  <foodType>\"+str(items[1])+\"</foodType>\\n\")\n",
    "    print(\"  <price>\"+str(items[2])+\"</price>\\n\")\n",
    "    print(\"</item>\\n\")\n"
   ]
  }
 ],
 "metadata": {
  "kernelspec": {
   "display_name": "Python 3",
   "language": "python",
   "name": "python3"
  },
  "language_info": {
   "codemirror_mode": {
    "name": "ipython",
    "version": 3
   },
   "file_extension": ".py",
   "mimetype": "text/x-python",
   "name": "python",
   "nbconvert_exporter": "python",
   "pygments_lexer": "ipython3",
   "version": "3.7.0"
  }
 },
 "nbformat": 4,
 "nbformat_minor": 2
}
