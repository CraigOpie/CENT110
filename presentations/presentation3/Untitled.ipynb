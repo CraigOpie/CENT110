{
 "cells": [
  {
   "cell_type": "code",
   "execution_count": 11,
   "metadata": {},
   "outputs": [
    {
     "name": "stdout",
     "output_type": "stream",
     "text": [
      "Please specify the number you would like to 'self sum' count up to: 20\n",
      "The 'self sum' count up to total is: 210\n"
     ]
    }
   ],
   "source": [
    "userNum = int(input(\"Please specify the number you would like to 'self sum' count up to: \"))\n",
    "\n",
    "condition = 0\n",
    "total = 0\n",
    "num = 0\n",
    "\n",
    "while condition < userNum:\n",
    "    num = num + 1\n",
    "    total = total + num\n",
    "    condition = condition + 1\n",
    "\n",
    "print(\"The 'self sum' count up to total is:\",total)"
   ]
  },
  {
   "cell_type": "code",
   "execution_count": null,
   "metadata": {},
   "outputs": [],
   "source": [
    "numStudents = int(input(\"Enter the number of students: \"))\n",
    "\n",
    "condition = 0\n",
    "\n",
    "while condition < numStudents:\n",
    "    score = float(input(\"Enter score: \"))\n",
    "    print(score)\n",
    "    condition = condition + 1"
   ]
  },
  {
   "cell_type": "code",
   "execution_count": 17,
   "metadata": {},
   "outputs": [
    {
     "name": "stdout",
     "output_type": "stream",
     "text": [
      "Please enter the Student Names and ID's.  Type 'exit' when you are complete.\n",
      "1. Student name: Craig\n",
      "1. Student ID: 445\n",
      "2. Student name: Brandon\n",
      "2. Student ID: 666\n",
      "3. Student name: exit\n",
      "{'445': 'Craig', '666': 'Brandon'}\n"
     ]
    }
   ],
   "source": [
    "print(\"Please enter the Student Names and ID's.  Type 'exit' when you are complete.\")\n",
    "\n",
    "database = {}\n",
    "name = \"\"\n",
    "num = 0\n",
    "entryNum = 1\n",
    "\n",
    "while True:\n",
    "    name = input(str(entryNum)+\". Student name: \")\n",
    "    if name == \"exit\":\n",
    "        break\n",
    "    num = input(str(entryNum)+\". Student ID: \") \n",
    "    database[num] = name\n",
    "    entryNum = entryNum + 1\n",
    "print(database)"
   ]
  }
 ],
 "metadata": {
  "kernelspec": {
   "display_name": "Python 3",
   "language": "python",
   "name": "python3"
  },
  "language_info": {
   "codemirror_mode": {
    "name": "ipython",
    "version": 3
   },
   "file_extension": ".py",
   "mimetype": "text/x-python",
   "name": "python",
   "nbconvert_exporter": "python",
   "pygments_lexer": "ipython3",
   "version": "3.6.5"
  }
 },
 "nbformat": 4,
 "nbformat_minor": 2
}
